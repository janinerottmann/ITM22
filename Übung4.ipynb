{
  "nbformat": 4,
  "nbformat_minor": 0,
  "metadata": {
    "colab": {
      "name": "Übung4.ipynb",
      "provenance": [],
      "collapsed_sections": [],
      "authorship_tag": "ABX9TyOWAluSmXAkhanlIMNo0qpz",
      "include_colab_link": true
    },
    "kernelspec": {
      "name": "python3",
      "display_name": "Python 3"
    },
    "language_info": {
      "name": "python"
    },
    "widgets": {
      "application/vnd.jupyter.widget-state+json": {
        "24723876e82e4590b5a2d736c99f7cf0": {
          "model_module": "@jupyter-widgets/controls",
          "model_name": "HBoxModel",
          "model_module_version": "1.5.0",
          "state": {
            "_dom_classes": [],
            "_model_module": "@jupyter-widgets/controls",
            "_model_module_version": "1.5.0",
            "_model_name": "HBoxModel",
            "_view_count": null,
            "_view_module": "@jupyter-widgets/controls",
            "_view_module_version": "1.5.0",
            "_view_name": "HBoxView",
            "box_style": "",
            "children": [
              "IPY_MODEL_dded8eca1a0943378064ecde79eb4b92",
              "IPY_MODEL_24d1039a5093477ab3f03893eaae2452",
              "IPY_MODEL_cfe41aa74c824d2c88fc09e7ea8f47e0"
            ],
            "layout": "IPY_MODEL_8c91c5ec65da42ecaa6a130b6fcdd88c"
          }
        },
        "dded8eca1a0943378064ecde79eb4b92": {
          "model_module": "@jupyter-widgets/controls",
          "model_name": "HTMLModel",
          "model_module_version": "1.5.0",
          "state": {
            "_dom_classes": [],
            "_model_module": "@jupyter-widgets/controls",
            "_model_module_version": "1.5.0",
            "_model_name": "HTMLModel",
            "_view_count": null,
            "_view_module": "@jupyter-widgets/controls",
            "_view_module_version": "1.5.0",
            "_view_name": "HTMLView",
            "description": "",
            "description_tooltip": null,
            "layout": "IPY_MODEL_334680d944804205a813789ad483b9b5",
            "placeholder": "​",
            "style": "IPY_MODEL_3ebe08fe7bb7433bb11c97a7ee335dc0",
            "value": "replaying log with TBR, completed variants :: 100%"
          }
        },
        "24d1039a5093477ab3f03893eaae2452": {
          "model_module": "@jupyter-widgets/controls",
          "model_name": "FloatProgressModel",
          "model_module_version": "1.5.0",
          "state": {
            "_dom_classes": [],
            "_model_module": "@jupyter-widgets/controls",
            "_model_module_version": "1.5.0",
            "_model_name": "FloatProgressModel",
            "_view_count": null,
            "_view_module": "@jupyter-widgets/controls",
            "_view_module_version": "1.5.0",
            "_view_name": "ProgressView",
            "bar_style": "success",
            "description": "",
            "description_tooltip": null,
            "layout": "IPY_MODEL_1c3fd0c5cd0d48c6a05264bc4dba4b6a",
            "max": 15,
            "min": 0,
            "orientation": "horizontal",
            "style": "IPY_MODEL_8ba686a78fbd4f32a606acf46125efc2",
            "value": 15
          }
        },
        "cfe41aa74c824d2c88fc09e7ea8f47e0": {
          "model_module": "@jupyter-widgets/controls",
          "model_name": "HTMLModel",
          "model_module_version": "1.5.0",
          "state": {
            "_dom_classes": [],
            "_model_module": "@jupyter-widgets/controls",
            "_model_module_version": "1.5.0",
            "_model_name": "HTMLModel",
            "_view_count": null,
            "_view_module": "@jupyter-widgets/controls",
            "_view_module_version": "1.5.0",
            "_view_name": "HTMLView",
            "description": "",
            "description_tooltip": null,
            "layout": "IPY_MODEL_da81955a4b1747d5bf090f8a32fa6e0d",
            "placeholder": "​",
            "style": "IPY_MODEL_3b6e880baf044217bddb71f076a6c4db",
            "value": " 15/15 [00:00&lt;00:00,  6.74it/s]"
          }
        },
        "8c91c5ec65da42ecaa6a130b6fcdd88c": {
          "model_module": "@jupyter-widgets/base",
          "model_name": "LayoutModel",
          "model_module_version": "1.2.0",
          "state": {
            "_model_module": "@jupyter-widgets/base",
            "_model_module_version": "1.2.0",
            "_model_name": "LayoutModel",
            "_view_count": null,
            "_view_module": "@jupyter-widgets/base",
            "_view_module_version": "1.2.0",
            "_view_name": "LayoutView",
            "align_content": null,
            "align_items": null,
            "align_self": null,
            "border": null,
            "bottom": null,
            "display": null,
            "flex": null,
            "flex_flow": null,
            "grid_area": null,
            "grid_auto_columns": null,
            "grid_auto_flow": null,
            "grid_auto_rows": null,
            "grid_column": null,
            "grid_gap": null,
            "grid_row": null,
            "grid_template_areas": null,
            "grid_template_columns": null,
            "grid_template_rows": null,
            "height": null,
            "justify_content": null,
            "justify_items": null,
            "left": null,
            "margin": null,
            "max_height": null,
            "max_width": null,
            "min_height": null,
            "min_width": null,
            "object_fit": null,
            "object_position": null,
            "order": null,
            "overflow": null,
            "overflow_x": null,
            "overflow_y": null,
            "padding": null,
            "right": null,
            "top": null,
            "visibility": null,
            "width": null
          }
        },
        "334680d944804205a813789ad483b9b5": {
          "model_module": "@jupyter-widgets/base",
          "model_name": "LayoutModel",
          "model_module_version": "1.2.0",
          "state": {
            "_model_module": "@jupyter-widgets/base",
            "_model_module_version": "1.2.0",
            "_model_name": "LayoutModel",
            "_view_count": null,
            "_view_module": "@jupyter-widgets/base",
            "_view_module_version": "1.2.0",
            "_view_name": "LayoutView",
            "align_content": null,
            "align_items": null,
            "align_self": null,
            "border": null,
            "bottom": null,
            "display": null,
            "flex": null,
            "flex_flow": null,
            "grid_area": null,
            "grid_auto_columns": null,
            "grid_auto_flow": null,
            "grid_auto_rows": null,
            "grid_column": null,
            "grid_gap": null,
            "grid_row": null,
            "grid_template_areas": null,
            "grid_template_columns": null,
            "grid_template_rows": null,
            "height": null,
            "justify_content": null,
            "justify_items": null,
            "left": null,
            "margin": null,
            "max_height": null,
            "max_width": null,
            "min_height": null,
            "min_width": null,
            "object_fit": null,
            "object_position": null,
            "order": null,
            "overflow": null,
            "overflow_x": null,
            "overflow_y": null,
            "padding": null,
            "right": null,
            "top": null,
            "visibility": null,
            "width": null
          }
        },
        "3ebe08fe7bb7433bb11c97a7ee335dc0": {
          "model_module": "@jupyter-widgets/controls",
          "model_name": "DescriptionStyleModel",
          "model_module_version": "1.5.0",
          "state": {
            "_model_module": "@jupyter-widgets/controls",
            "_model_module_version": "1.5.0",
            "_model_name": "DescriptionStyleModel",
            "_view_count": null,
            "_view_module": "@jupyter-widgets/base",
            "_view_module_version": "1.2.0",
            "_view_name": "StyleView",
            "description_width": ""
          }
        },
        "1c3fd0c5cd0d48c6a05264bc4dba4b6a": {
          "model_module": "@jupyter-widgets/base",
          "model_name": "LayoutModel",
          "model_module_version": "1.2.0",
          "state": {
            "_model_module": "@jupyter-widgets/base",
            "_model_module_version": "1.2.0",
            "_model_name": "LayoutModel",
            "_view_count": null,
            "_view_module": "@jupyter-widgets/base",
            "_view_module_version": "1.2.0",
            "_view_name": "LayoutView",
            "align_content": null,
            "align_items": null,
            "align_self": null,
            "border": null,
            "bottom": null,
            "display": null,
            "flex": null,
            "flex_flow": null,
            "grid_area": null,
            "grid_auto_columns": null,
            "grid_auto_flow": null,
            "grid_auto_rows": null,
            "grid_column": null,
            "grid_gap": null,
            "grid_row": null,
            "grid_template_areas": null,
            "grid_template_columns": null,
            "grid_template_rows": null,
            "height": null,
            "justify_content": null,
            "justify_items": null,
            "left": null,
            "margin": null,
            "max_height": null,
            "max_width": null,
            "min_height": null,
            "min_width": null,
            "object_fit": null,
            "object_position": null,
            "order": null,
            "overflow": null,
            "overflow_x": null,
            "overflow_y": null,
            "padding": null,
            "right": null,
            "top": null,
            "visibility": null,
            "width": null
          }
        },
        "8ba686a78fbd4f32a606acf46125efc2": {
          "model_module": "@jupyter-widgets/controls",
          "model_name": "ProgressStyleModel",
          "model_module_version": "1.5.0",
          "state": {
            "_model_module": "@jupyter-widgets/controls",
            "_model_module_version": "1.5.0",
            "_model_name": "ProgressStyleModel",
            "_view_count": null,
            "_view_module": "@jupyter-widgets/base",
            "_view_module_version": "1.2.0",
            "_view_name": "StyleView",
            "bar_color": null,
            "description_width": ""
          }
        },
        "da81955a4b1747d5bf090f8a32fa6e0d": {
          "model_module": "@jupyter-widgets/base",
          "model_name": "LayoutModel",
          "model_module_version": "1.2.0",
          "state": {
            "_model_module": "@jupyter-widgets/base",
            "_model_module_version": "1.2.0",
            "_model_name": "LayoutModel",
            "_view_count": null,
            "_view_module": "@jupyter-widgets/base",
            "_view_module_version": "1.2.0",
            "_view_name": "LayoutView",
            "align_content": null,
            "align_items": null,
            "align_self": null,
            "border": null,
            "bottom": null,
            "display": null,
            "flex": null,
            "flex_flow": null,
            "grid_area": null,
            "grid_auto_columns": null,
            "grid_auto_flow": null,
            "grid_auto_rows": null,
            "grid_column": null,
            "grid_gap": null,
            "grid_row": null,
            "grid_template_areas": null,
            "grid_template_columns": null,
            "grid_template_rows": null,
            "height": null,
            "justify_content": null,
            "justify_items": null,
            "left": null,
            "margin": null,
            "max_height": null,
            "max_width": null,
            "min_height": null,
            "min_width": null,
            "object_fit": null,
            "object_position": null,
            "order": null,
            "overflow": null,
            "overflow_x": null,
            "overflow_y": null,
            "padding": null,
            "right": null,
            "top": null,
            "visibility": null,
            "width": null
          }
        },
        "3b6e880baf044217bddb71f076a6c4db": {
          "model_module": "@jupyter-widgets/controls",
          "model_name": "DescriptionStyleModel",
          "model_module_version": "1.5.0",
          "state": {
            "_model_module": "@jupyter-widgets/controls",
            "_model_module_version": "1.5.0",
            "_model_name": "DescriptionStyleModel",
            "_view_count": null,
            "_view_module": "@jupyter-widgets/base",
            "_view_module_version": "1.2.0",
            "_view_name": "StyleView",
            "description_width": ""
          }
        }
      }
    }
  },
  "cells": [
    {
      "cell_type": "markdown",
      "metadata": {
        "id": "view-in-github",
        "colab_type": "text"
      },
      "source": [
        "<a href=\"https://colab.research.google.com/github/janinerottmann/ITM22/blob/main/%C3%9Cbung4.ipynb\" target=\"_parent\"><img src=\"https://colab.research.google.com/assets/colab-badge.svg\" alt=\"Open In Colab\"/></a>"
      ]
    },
    {
      "cell_type": "markdown",
      "source": [
        "IT Management\\ Janine Rottmann\\ Lehrstuhl für Wirtschaftsinformatik und Systementwicklung\n",
        "\n",
        "______________________\n",
        "\n",
        "\n",
        "# Process Mining with Python tutorial: A healthcare application - Part 2\n",
        "\n",
        "In [Part 1](https://colab.research.google.com/drive/1IBdY-Mgnz4WPGVD96J8COsNODTJCWJ_0#scrollTo=vTJKHoD-Vn15&line=8&uniqifier=1) of the tutorial, you saw how to prepare and explore your data to get a high level ‘feel’ for the processes. In this part you will learn how to use the pm4py library to discover process models by working with an example dataset (the same dataset as used to illustrate exploration in Part 1).\n",
        "\n",
        "## Formatting the event log for PM4Py\n",
        "\n",
        "The pm4py library works with both CSV/standard pandas dataframe and XES formats. XES is a standard format used to store event logs, but it is not adopted in all contexts. The two relevant objects are converter from pm4py.objects.conversion.log (here aliased log_converter), which converts standard pandas dataframes into event logs, and importer from pm4py.objects.log.importer.xes (here aliased xes_importer), which imports logs in XES format.\n",
        "\n",
        "\n"
      ],
      "metadata": {
        "id": "vTJKHoD-Vn15"
      }
    },
    {
      "cell_type": "code",
      "execution_count": null,
      "metadata": {
        "id": "r8v-kdevVPjk"
      },
      "outputs": [],
      "source": [
        "# load pm4py library\n",
        "import pm4py\n",
        "from pm4py.objects.conversion.log import converter as log_converter \n",
        "from pm4py.objects.log.importer.xes import importer as xes_importer"
      ]
    },
    {
      "cell_type": "markdown",
      "source": [
        "Since in our worked example we are working with a CSV file, we only need the log_converter object. First we need to read the file into a pandas dataframe and decide which columns are the case, event and timestamp. We do this by mapping new pm4py-comprehensible column names to the columns. Recall our dataframe."
      ],
      "metadata": {
        "id": "tg9iT0H-WnZp"
      }
    },
    {
      "cell_type": "code",
      "source": [
        "# import pandas library\n",
        "import pandas as pd\n",
        "\n",
        "# Download the event log data.\n",
        "events = pd.read_csv(\"https://raw.githubusercontent.com/janinerottmann/ITM22/main/data/ArtificialPatientTreatment.csv\")\n",
        "events.columns = ['patient', 'action', 'resource', 'datetime']\n",
        "events['datetime'] = pd.to_datetime(events['datetime'])\n",
        "events.head()"
      ],
      "metadata": {
        "colab": {
          "base_uri": "https://localhost:8080/",
          "height": 206
        },
        "id": "wI8cMX6-Wpkt",
        "outputId": "eacd53b2-dd34-443b-df88-626fb58f3109"
      },
      "execution_count": null,
      "outputs": [
        {
          "output_type": "execute_result",
          "data": {
            "text/plain": [
              "     patient           action      resource            datetime\n",
              "0  patient 0    First consult      Dr. Anna 2017-01-02 11:40:11\n",
              "1  patient 0       Blood test           Lab 2017-01-02 12:47:33\n",
              "2  patient 0    Physical test   Nurse Jesse 2017-01-02 12:53:50\n",
              "3  patient 0   Second consult      Dr. Anna 2017-01-02 16:21:06\n",
              "4  patient 0          Surgery   Dr. Charlie 2017-01-05 13:23:09"
            ],
            "text/html": [
              "\n",
              "  <div id=\"df-2c9f6b2b-6ae5-443e-ab62-64540d4e0edf\">\n",
              "    <div class=\"colab-df-container\">\n",
              "      <div>\n",
              "<style scoped>\n",
              "    .dataframe tbody tr th:only-of-type {\n",
              "        vertical-align: middle;\n",
              "    }\n",
              "\n",
              "    .dataframe tbody tr th {\n",
              "        vertical-align: top;\n",
              "    }\n",
              "\n",
              "    .dataframe thead th {\n",
              "        text-align: right;\n",
              "    }\n",
              "</style>\n",
              "<table border=\"1\" class=\"dataframe\">\n",
              "  <thead>\n",
              "    <tr style=\"text-align: right;\">\n",
              "      <th></th>\n",
              "      <th>patient</th>\n",
              "      <th>action</th>\n",
              "      <th>resource</th>\n",
              "      <th>datetime</th>\n",
              "    </tr>\n",
              "  </thead>\n",
              "  <tbody>\n",
              "    <tr>\n",
              "      <th>0</th>\n",
              "      <td>patient 0</td>\n",
              "      <td>First consult</td>\n",
              "      <td>Dr. Anna</td>\n",
              "      <td>2017-01-02 11:40:11</td>\n",
              "    </tr>\n",
              "    <tr>\n",
              "      <th>1</th>\n",
              "      <td>patient 0</td>\n",
              "      <td>Blood test</td>\n",
              "      <td>Lab</td>\n",
              "      <td>2017-01-02 12:47:33</td>\n",
              "    </tr>\n",
              "    <tr>\n",
              "      <th>2</th>\n",
              "      <td>patient 0</td>\n",
              "      <td>Physical test</td>\n",
              "      <td>Nurse Jesse</td>\n",
              "      <td>2017-01-02 12:53:50</td>\n",
              "    </tr>\n",
              "    <tr>\n",
              "      <th>3</th>\n",
              "      <td>patient 0</td>\n",
              "      <td>Second consult</td>\n",
              "      <td>Dr. Anna</td>\n",
              "      <td>2017-01-02 16:21:06</td>\n",
              "    </tr>\n",
              "    <tr>\n",
              "      <th>4</th>\n",
              "      <td>patient 0</td>\n",
              "      <td>Surgery</td>\n",
              "      <td>Dr. Charlie</td>\n",
              "      <td>2017-01-05 13:23:09</td>\n",
              "    </tr>\n",
              "  </tbody>\n",
              "</table>\n",
              "</div>\n",
              "      <button class=\"colab-df-convert\" onclick=\"convertToInteractive('df-2c9f6b2b-6ae5-443e-ab62-64540d4e0edf')\"\n",
              "              title=\"Convert this dataframe to an interactive table.\"\n",
              "              style=\"display:none;\">\n",
              "        \n",
              "  <svg xmlns=\"http://www.w3.org/2000/svg\" height=\"24px\"viewBox=\"0 0 24 24\"\n",
              "       width=\"24px\">\n",
              "    <path d=\"M0 0h24v24H0V0z\" fill=\"none\"/>\n",
              "    <path d=\"M18.56 5.44l.94 2.06.94-2.06 2.06-.94-2.06-.94-.94-2.06-.94 2.06-2.06.94zm-11 1L8.5 8.5l.94-2.06 2.06-.94-2.06-.94L8.5 2.5l-.94 2.06-2.06.94zm10 10l.94 2.06.94-2.06 2.06-.94-2.06-.94-.94-2.06-.94 2.06-2.06.94z\"/><path d=\"M17.41 7.96l-1.37-1.37c-.4-.4-.92-.59-1.43-.59-.52 0-1.04.2-1.43.59L10.3 9.45l-7.72 7.72c-.78.78-.78 2.05 0 2.83L4 21.41c.39.39.9.59 1.41.59.51 0 1.02-.2 1.41-.59l7.78-7.78 2.81-2.81c.8-.78.8-2.07 0-2.86zM5.41 20L4 18.59l7.72-7.72 1.47 1.35L5.41 20z\"/>\n",
              "  </svg>\n",
              "      </button>\n",
              "      \n",
              "  <style>\n",
              "    .colab-df-container {\n",
              "      display:flex;\n",
              "      flex-wrap:wrap;\n",
              "      gap: 12px;\n",
              "    }\n",
              "\n",
              "    .colab-df-convert {\n",
              "      background-color: #E8F0FE;\n",
              "      border: none;\n",
              "      border-radius: 50%;\n",
              "      cursor: pointer;\n",
              "      display: none;\n",
              "      fill: #1967D2;\n",
              "      height: 32px;\n",
              "      padding: 0 0 0 0;\n",
              "      width: 32px;\n",
              "    }\n",
              "\n",
              "    .colab-df-convert:hover {\n",
              "      background-color: #E2EBFA;\n",
              "      box-shadow: 0px 1px 2px rgba(60, 64, 67, 0.3), 0px 1px 3px 1px rgba(60, 64, 67, 0.15);\n",
              "      fill: #174EA6;\n",
              "    }\n",
              "\n",
              "    [theme=dark] .colab-df-convert {\n",
              "      background-color: #3B4455;\n",
              "      fill: #D2E3FC;\n",
              "    }\n",
              "\n",
              "    [theme=dark] .colab-df-convert:hover {\n",
              "      background-color: #434B5C;\n",
              "      box-shadow: 0px 1px 3px 1px rgba(0, 0, 0, 0.15);\n",
              "      filter: drop-shadow(0px 1px 2px rgba(0, 0, 0, 0.3));\n",
              "      fill: #FFFFFF;\n",
              "    }\n",
              "  </style>\n",
              "\n",
              "      <script>\n",
              "        const buttonEl =\n",
              "          document.querySelector('#df-2c9f6b2b-6ae5-443e-ab62-64540d4e0edf button.colab-df-convert');\n",
              "        buttonEl.style.display =\n",
              "          google.colab.kernel.accessAllowed ? 'block' : 'none';\n",
              "\n",
              "        async function convertToInteractive(key) {\n",
              "          const element = document.querySelector('#df-2c9f6b2b-6ae5-443e-ab62-64540d4e0edf');\n",
              "          const dataTable =\n",
              "            await google.colab.kernel.invokeFunction('convertToInteractive',\n",
              "                                                     [key], {});\n",
              "          if (!dataTable) return;\n",
              "\n",
              "          const docLinkHtml = 'Like what you see? Visit the ' +\n",
              "            '<a target=\"_blank\" href=https://colab.research.google.com/notebooks/data_table.ipynb>data table notebook</a>'\n",
              "            + ' to learn more about interactive tables.';\n",
              "          element.innerHTML = '';\n",
              "          dataTable['output_type'] = 'display_data';\n",
              "          await google.colab.output.renderOutput(dataTable, element);\n",
              "          const docLink = document.createElement('div');\n",
              "          docLink.innerHTML = docLinkHtml;\n",
              "          element.appendChild(docLink);\n",
              "        }\n",
              "      </script>\n",
              "    </div>\n",
              "  </div>\n",
              "  "
            ]
          },
          "metadata": {},
          "execution_count": 2
        }
      ]
    },
    {
      "cell_type": "markdown",
      "source": [
        "Referring back to the previous part of the tutorial, we want to map: \n",
        "\n",
        "*   the ‘**patient**’ column to case, which for pm4py is the ‘**case:concept:name’ label**;\n",
        "*   the ‘**datetime**’ column to timestamp, which for pm4py is the ‘**time:timestamp’ label**;\n",
        "* the ‘**action**’ column as the event, which for pm4py is the ‘**concept:name**’ and\n",
        "* the ‘**resource**’ column to resource, which for pm4py is the ‘**org:resource**’ label."
      ],
      "metadata": {
        "id": "X5bQei3aWu2q"
      }
    },
    {
      "cell_type": "code",
      "source": [
        "# create a copy of the event log\n",
        "eventlog = events.copy()\n",
        "\n",
        "# rename eventlog columns\n",
        "eventlog.rename(columns={'datetime': 'time:timestamp', \n",
        "                         'patient': 'case:concept:name', \n",
        "                         'action': 'concept:name', \n",
        "                         'resource': 'org:resource'}, inplace=True)"
      ],
      "metadata": {
        "id": "4ht2jI0oW-l0"
      },
      "execution_count": null,
      "outputs": []
    },
    {
      "cell_type": "markdown",
      "source": [
        "Then we use the log_converter object to convert it into the log format that pm4py recognises."
      ],
      "metadata": {
        "id": "fSlw8qYoXT4s"
      }
    },
    {
      "cell_type": "code",
      "source": [
        "## Convert to log format \n",
        "log = log_converter.apply(eventlog)"
      ],
      "metadata": {
        "id": "KVRt7yd8XUzi"
      },
      "execution_count": null,
      "outputs": []
    },
    {
      "cell_type": "markdown",
      "source": [
        "## Process discovery with Alpha Miner\n",
        "\n",
        "Alpha miner is one of the most best-known process mining algorithms, and one of the first algorithms that could discover concurrency. The algorithm uses the ***direct succession, causal, parallel, and unrelated*** relationships between transitions in the log to discover a ***workflow net***. This page gives you a more thorough account of the algorithm and formal definitions of the relationships between transitions.\n",
        "\n",
        "Alpha miner can be implemented very easily with the pm4py by importing the algorithm and applying it to the event log."
      ],
      "metadata": {
        "id": "7w-aDvUaXYJm"
      }
    },
    {
      "cell_type": "code",
      "source": [
        "## Import the alpha_miner algorithm\n",
        "from pm4py.algo.discovery.alpha import algorithm as alpha_miner\n",
        "net, initial_marking, final_marking = alpha_miner.apply(log)"
      ],
      "metadata": {
        "id": "U6WVuHiJXkJM"
      },
      "execution_count": null,
      "outputs": []
    },
    {
      "cell_type": "markdown",
      "source": [
        "You can then represent this model with a petri net and visualise it with the pm4py visualizer object from pm4py.visualization.petrinet. If you are unfamiliar with petri nets, you should first watch this [introductory video](https://www.youtube.com/watch?v=EmYVZuczJ6k) before continuing.\n",
        "\n",
        "# Exercises\n",
        "\n",
        "* **Exercise 2.1: Petri nets were developed in the early 1960s by C.A. Petri and are used\n",
        "to formally describe process flows. Create a Petri net to model the processes in the\n",
        "clinic.**"
      ],
      "metadata": {
        "id": "tv5eXU3aXnds"
      }
    },
    {
      "cell_type": "code",
      "source": [
        "## Import the petrinet visualizer object\n",
        "from pm4py.visualization.petrinet import visualizer as pn_visualizer\n",
        "\n",
        "# Visualise \n",
        "gviz = pn_visualizer.apply(net, initial_marking, final_marking) \n",
        "pn_visualizer.view(gviz)"
      ],
      "metadata": {
        "colab": {
          "base_uri": "https://localhost:8080/",
          "height": 325
        },
        "id": "inUtJJGOX0zQ",
        "outputId": "2137a330-f1a7-4c25-c0d0-1834e86d22d6"
      },
      "execution_count": null,
      "outputs": [
        {
          "output_type": "stream",
          "name": "stderr",
          "text": [
            "/usr/local/lib/python3.7/dist-packages/pm4py/visualization/petrinet/__init__.py:20: UserWarning: please use the pm4py.visualization.petri_net package instead\n",
            "  warnings.warn(\"please use the pm4py.visualization.petri_net package instead\")\n",
            "/usr/local/lib/python3.7/dist-packages/ipykernel_launcher.py:5: DeprecatedWarning: apply is deprecated as of 2.2.5 and will be removed in 3.0.0. please use pm4py.visualization.petri_net.algorithm instead\n",
            "  \"\"\"\n"
          ]
        },
        {
          "output_type": "display_data",
          "data": {
            "text/plain": [
              "<IPython.core.display.Image object>"
            ],
            "image/png": "[encoded data removed]"
          },
          "metadata": {}
        }
      ]
    },
    {
      "cell_type": "markdown",
      "source": [
        "You will notice that alpha miner has retained the ordering information so that Blood test, Physical test, and X-ray occur after First consult and before Second consult, and Medicine and Surgery occur after Second consult and before Final consult.\n",
        "\n",
        "* **Exercise 2.2: Analyze the frequency of each transitions in the Petri net.**\n",
        "\n",
        "To get an idea of the frequencies of the transitions, you can label the transitions by setting the variant parameter to pn_visualizer.Variants.FREQUENCY when calling pn_visualizer.apply()."
      ],
      "metadata": {
        "id": "lZ_rf0l1X6_C"
      }
    },
    {
      "cell_type": "code",
      "source": [
        "# add information about frequency to the viz \n",
        "parameters = {pn_visualizer.Variants.FREQUENCY.value.Parameters.FORMAT: \"png\"}\n",
        "\n",
        "# visualize petri net with information about frequency\n",
        "gviz = pn_visualizer.apply(net, \n",
        "                           initial_marking, \n",
        "                           final_marking,\n",
        "                           parameters=parameters,\n",
        "                           variant=pn_visualizer.Variants.FREQUENCY,\n",
        "                           log=log)\n",
        "pn_visualizer.view(gviz)"
      ],
      "metadata": {
        "colab": {
          "base_uri": "https://localhost:8080/",
          "height": 273,
          "referenced_widgets": [
            "24723876e82e4590b5a2d736c99f7cf0",
            "dded8eca1a0943378064ecde79eb4b92",
            "24d1039a5093477ab3f03893eaae2452",
            "cfe41aa74c824d2c88fc09e7ea8f47e0",
            "8c91c5ec65da42ecaa6a130b6fcdd88c",
            "334680d944804205a813789ad483b9b5",
            "3ebe08fe7bb7433bb11c97a7ee335dc0",
            "1c3fd0c5cd0d48c6a05264bc4dba4b6a",
            "8ba686a78fbd4f32a606acf46125efc2",
            "da81955a4b1747d5bf090f8a32fa6e0d",
            "3b6e880baf044217bddb71f076a6c4db"
          ]
        },
        "id": "3jT7OwP4YBbe",
        "outputId": "8f790383-99f9-4963-d0ca-3196413ba0de"
      },
      "execution_count": null,
      "outputs": [
        {
          "output_type": "stream",
          "name": "stderr",
          "text": [
            "/usr/local/lib/python3.7/dist-packages/ipykernel_launcher.py:10: DeprecatedWarning: apply is deprecated as of 2.2.5 and will be removed in 3.0.0. please use pm4py.visualization.petri_net.algorithm instead\n",
            "  # Remove the CWD from sys.path while we load stuff.\n"
          ]
        },
        {
          "output_type": "display_data",
          "data": {
            "text/plain": [
              "replaying log with TBR, completed variants ::   0%|          | 0/15 [00:00<?, ?it/s]"
            ],
            "application/vnd.jupyter.widget-view+json": {
              "version_major": 2,
              "version_minor": 0,
              "model_id": "24723876e82e4590b5a2d736c99f7cf0"
            }
          },
          "metadata": {}
        },
        {
          "output_type": "display_data",
          "data": {
            "text/plain": [
              "<IPython.core.display.Image object>"
            ],
            "image/png": "[encoded data removed]"
          },
          "metadata": {}
        }
      ]
    },
    {
      "cell_type": "markdown",
      "source": [
        "The event frequencies recall the heatmap you generated in the previous part (but NB. alpha miner does not use the event frequencies to discover the model, see next part), where First consult, Blood test, Second consult, Physical test and Final consult were found to be the events shared by all patients (in the Petri net, these are the transitions shared by all processes), while Medicine, Surgery and X-ray scan are the differentiating events.\n",
        "\n",
        "* **Exercise 2.3: In last week's tutorial, you already analyzed that not all patients go through the same processes in the clinic. If you now take a look at the resulting Petri net, what proportion of patients will only receive a medication (Event “Medicine”) and\n",
        "what proportion of patients will be operated on (Event “Surgery”)?**\n",
        "\n",
        "Answer: 80% of all patients receive only a drug, while 20% of all patients undergo surgery.\n"
      ],
      "metadata": {
        "id": "g_bSL_q1YNjd"
      }
    },
    {
      "cell_type": "code",
      "source": [
        ""
      ],
      "metadata": {
        "id": "1kub8ioZb64U"
      },
      "execution_count": null,
      "outputs": []
    }
  ]
}