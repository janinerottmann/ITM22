{
  "nbformat": 4,
  "nbformat_minor": 0,
  "metadata": {
    "colab": {
      "name": "Übung5.ipynb",
      "provenance": [],
      "collapsed_sections": [],
      "authorship_tag": "ABX9TyNNBI7ioa4E9O4vt6FekL/0",
      "include_colab_link": true
    },
    "kernelspec": {
      "name": "python3",
      "display_name": "Python 3"
    },
    "language_info": {
      "name": "python"
    }
  },
  "cells": [
    {
      "cell_type": "markdown",
      "metadata": {
        "id": "view-in-github",
        "colab_type": "text"
      },
      "source": [
        "<a href=\"https://colab.research.google.com/github/janinerottmann/ITM22/blob/main/%C3%9Cbung5.ipynb\" target=\"_parent\"><img src=\"https://colab.research.google.com/assets/colab-badge.svg\" alt=\"Open In Colab\"/></a>"
      ]
    },
    {
      "cell_type": "markdown",
      "source": [
        "IT Management \\ Janine Rottmann \\ Lehrstuhl für Wirtschaftsinformatik und Systementwicklung\n",
        "\n",
        "# Simulating a Queueing System in Python\n",
        "\n",
        "We all have visited a bank at some point in our life, and we are familiar with how banks operate. Customers enter, wait in a queue for their number to be called out, get service from the teller, and finally leave. This is a queueing system, and we encounter many queueing systems in our day to day lives, from grocery stores to amusement parks they’re everywhere. And that’s why we must try and make them as efficient as possible. There is a lot of randomness involved in these systems, which can cause huge delays, result in long queues, reduce efficiency, and even monetary loss. The randomness can be addressed by developing a discrete event simulation model, this can be extremely helpful in improving the operational efficiency, by analyzing key performance measures. In this project, we are simulating a queueing system for a bank and analyze its performance.\n",
        "\n",
        "***Let’s consider a bank that has two tellers. Customers arrive at the bank about every 3 minutes on average according to a Poisson process. This rate of arrival is assumed in this case but should be modeled from actual data to get accurate results. They wait in a single line for an idle teller. This type of system is referred to as a M/M/2 queueing system. The average time it takes to serve a customer is 1.2 minutes by the first teller and 1.5 minutes by the second teller. The service times are assumed to be exponential here. When a customer enters the bank and both tellers are idle, they choose either one with equal probabilities. If a customer enters the bank and there are four people waiting in the line, they will leave the bank with probability 50%. If a customer enters the bank and there are five or more people waiting in the line, they will leave the bank with probability 90%.***\n",
        "\n",
        "![alt text](https://github.com/janinerottmann/ITM22/blob/3be8280564df2db5d7f9089ffb488fea113cd87b/data/process_flow.png?raw=true)\n",
        "\n",
        "\n",
        "# Building the Simulation Environment\n",
        "\n",
        "The main components of a simulation model are:\n",
        "\n",
        "* **State Variables**: describe the system at a particular time\n",
        "* **Simulation Clock**: Keeps track of time\n",
        "* **Statistical Counters**: Variables for storing statistical info about performance parameters\n",
        "* **Initialization Routine**: A subprogram or class that initializes the model at time 0\n",
        "* **Timing Routine**: A subprogram or a class that determines the next event\n",
        "* **Event Routine**: A subprogram or a class that updates the system when a particular event occurs"
      ],
      "metadata": {
        "id": "56QkM61x7h2j"
      }
    },
    {
      "cell_type": "code",
      "execution_count": 1,
      "metadata": {
        "id": "liIxtBiN5-MA"
      },
      "outputs": [],
      "source": [
        "# import libraries\n",
        "import numpy as np\n",
        "import pandas as pd"
      ]
    },
    {
      "cell_type": "code",
      "source": [
        "class Bank_Simulation:\n",
        "\n",
        "    # we start by defining variables and initializing them in the init function, \n",
        "    # inside the main class. The variable defined below are state variables as \n",
        "    # well as statistical counters.\n",
        "    # The key variables that tell us about the performance of the system are \n",
        "    # average wait time, utilization of servers, number of people waiting in line, \n",
        "    # and lost customers, some of which are directly calculated and others derived.\n",
        "    def __init__(self): \n",
        "        self.clock=0.0                      #simulation clock\n",
        "        self.num_arrivals=0                 #total number of arrivals\n",
        "        self.t_arrival=self.gen_int_arr()   #time of next arrival\n",
        "        self.t_departure1=float('inf')      #departure time from server 1\n",
        "        self.t_departure2=float('inf')      #departure time from server 2\n",
        "        self.dep_sum1=0                     #Sum of service times by teller 1\n",
        "        self.dep_sum2=0                     #Sum of service times by teller 2\n",
        "        self.state_T1=0                     #current state of server1 (binary)\n",
        "        self.state_T2=0                     #current state of server2 (binary)\n",
        "        self.total_wait_time=0.0            #total wait time\n",
        "        self.num_in_q=0                     #current number in queue\n",
        "        self.number_in_queue=0              #customers who had to wait in line(counter)\n",
        "        self.num_in_system=0                #current number of customers in system\n",
        "        self.num_of_departures1=0           #number of customers served by teller 1  \n",
        "        self.num_of_departures2=0           #number of customers served by teller 2 \n",
        "        self.lost_customers=0               #customers who left without service\n",
        "\n",
        "    # The timing routine decides which event occurs next by comparing the \n",
        "    # scheduled time of events and advances the simulation clock to the \n",
        "    # respective event. Initially, the departure events are scheduled to occur \n",
        "    # at time infinity(since there are no customers), which guarantees that the \n",
        "    # first event will be an arrival event.\n",
        "    def time_adv(self):   \n",
        "        #determine time of next event                                                    \n",
        "        t_next_event=min(self.t_arrival,self.t_departure1,self.t_departure2)  \n",
        "        self.total_wait_time += (self.num_in_q*(t_next_event-self.clock))\n",
        "        self.clock=t_next_event\n",
        "                \n",
        "        if self.t_arrival<self.t_departure1 and self.t_arrival<self.t_departure2:\n",
        "            self.arrival()\n",
        "        elif self.t_departure1<self.t_arrival and self.t_departure1<self.t_departure2:\n",
        "            self.teller1()\n",
        "        else:\n",
        "            self.teller2()\n",
        "\n",
        "    # As per the problem stated above, an arrival event can have multiple outcomes, \n",
        "    # which have been highlighted in the chart below.\n",
        "    # The outcome of the arrival event is decided by the number of customers in \n",
        "    # the queue and the state of the servers. For every outcome, statistical \n",
        "    # counters are updated, and the next event is scheduled.\n",
        "    def arrival(self):              \n",
        "        self.num_arrivals += 1\n",
        "        self.num_in_system += 1\n",
        "\n",
        "        #schedule next departure or arrival depending on state of servers\n",
        "        if self.num_in_q == 0:                              \n",
        "            if self.state_T1==1 and self.state_T2==1:\n",
        "                self.num_in_q+=1\n",
        "                self.number_in_queue+=1\n",
        "                self.t_arrival=self.clock+self.gen_int_arr()\n",
        "                \n",
        "                \n",
        "            elif self.state_T1==0 and self.state_T2==0:\n",
        "                \n",
        "                if np.random.choice([0,1])==1:\n",
        "                    self.state_T1=1\n",
        "                    self.dep1= self.gen_service_time_teller1()\n",
        "                    self.dep_sum1 += self.dep1\n",
        "                    self.t_departure1=self.clock + self.dep1\n",
        "                    self.t_arrival=self.clock+self.gen_int_arr()\n",
        "\n",
        "                else:\n",
        "                    self.state_T2=1\n",
        "                    self.dep2= self.gen_service_time_teller2()\n",
        "                    self.dep_sum2 += self.dep2\n",
        "                    self.t_departure2=self.clock + self.dep2\n",
        "                    self.t_arrival=self.clock+self.gen_int_arr()\n",
        "\n",
        "            #if server 2 is busy customer goes to server 1\n",
        "            elif self.state_T1==0 and self.state_T2 ==1:    \n",
        "                self.dep1= self.gen_service_time_teller1()\n",
        "                self.dep_sum1 += self.dep1\n",
        "                self.t_departure1=self.clock + self.dep1\n",
        "                self.t_arrival=self.clock+self.gen_int_arr()\n",
        "                self.state_T1=1\n",
        "            \n",
        "            #otherwise customer goes to server 2\n",
        "            else:                                           \n",
        "                self.dep2= self.gen_service_time_teller2()\n",
        "                self.dep_sum2 += self.dep2\n",
        "                self.t_departure2=self.clock + self.dep2\n",
        "                self.t_arrival=self.clock+self.gen_int_arr()\n",
        "                self.state_T2=1\n",
        "        \n",
        "        #if queue length is less than 4 generate next arrival and make customer join queue\n",
        "        elif self.num_in_q < 4 and self.num_in_q >= 1:\n",
        "            self.num_in_q+=1\n",
        "            self.number_in_queue+=1                             \n",
        "            self.t_arrival=self.clock + self.gen_int_arr()\n",
        "        \n",
        "        #if queue length is 4 equal prob to leave or stay\n",
        "        elif self.num_in_q == 4:                             \n",
        "            if np.random.choice([0,1])==0: \n",
        "                self.num_in_q+=1 \n",
        "                self.number_in_queue+=1                 \n",
        "                self.t_arrival=self.clock + self.gen_int_arr()\n",
        "            else:\n",
        "                self.lost_customers+=1\n",
        "                \n",
        "        #if queue length is more than 5 90% chance of leaving \n",
        "        elif self.num_in_q >= 5:                            \n",
        "            if np.random.choice([0,1],p=[0.1,0.9])==0:\n",
        "                self.t_arrival=self.clock+self.gen_int_arr()\n",
        "                self.num_in_q+=1 \n",
        "                self.number_in_queue+=1 \n",
        "            else:\n",
        "                self.lost_customers+=1      \n",
        "\n",
        "    # A departure event occurs when the timing routine identifies any of the two \n",
        "    # departure events to be scheduled next.\n",
        "\n",
        "    # Departure from server 1\n",
        "    def teller1(self):            \n",
        "        self.num_of_departures1 += 1\n",
        "        self.num_in_system -= 1 \n",
        "        if self.num_in_q>0:\n",
        "            self.dep1= self.gen_service_time_teller1()\n",
        "            self.dep_sum1 += self.dep1\n",
        "            self.t_departure1=self.clock + self.dep1\n",
        "            self.num_in_q-=1\n",
        "        else:\n",
        "            self.t_departure1=float('inf') \n",
        "            self.state_T1=0                  \n",
        "    # Departure from server 2\n",
        "    def teller2(self):              \n",
        "        self.num_of_departures2 += 1\n",
        "        self.num_in_system -= 1\n",
        "        if self.num_in_q>0:\n",
        "            self.dep2= self.gen_service_time_teller2()\n",
        "            self.dep_sum2 += self.dep2\n",
        "            self.t_departure2=self.clock + self.dep2\n",
        "            self.num_in_q-=1\n",
        "        else:\n",
        "            self.t_departure2=float('inf')\n",
        "            self.state_T2=0\n",
        "    \n",
        "    # The arrival and service times are generated using inverse transform sampling. \n",
        "    # These random number generator functions are called in the arrival and departure \n",
        "    # functions to generate random arrivals and service times.\n",
        "\n",
        "    # Function to generate arrival times using inverse transform\n",
        "    def gen_int_arr(self):                                             \n",
        "        return (-np.log(1-(np.random.uniform(low=0.0,high=1.0))) * 3)\n",
        "    \n",
        "    # Function to generate service time for teller 1 using inverse transform\n",
        "    def gen_service_time_teller1(self):                              \n",
        "        return (-np.log(1-(np.random.uniform(low=0.0,high=1.0))) * 1.2)\n",
        "    \n",
        "    # Function to generate service time for teller 1 using inverse transform\n",
        "    def gen_service_time_teller2(self):                                \n",
        "        return (-np.log(1-(np.random.uniform(low=0.0,high=1.0))) * 1.5)"
      ],
      "metadata": {
        "id": "oEbf45B4K30t"
      },
      "execution_count": 2,
      "outputs": []
    },
    {
      "cell_type": "markdown",
      "source": [
        "# Running the Simulation\n",
        "\n",
        "Having built the simulation environment, we can run the simulation. We run the simulation over a period of one year (364 replications). Each workday starts at 8am and ends at 4pm. Data is collected and stored in a pandas data frame for further analysis. The data frame may be exported as an excel workbook."
      ],
      "metadata": {
        "id": "Wph2THC9DZkI"
      }
    },
    {
      "cell_type": "code",
      "source": [
        "# create simulation environment\n",
        "s = Bank_Simulation()\n",
        "\n",
        "# create a pandas data frame to report results\n",
        "df = pd.DataFrame(columns=['Num_arrivals',\n",
        "                           'Average_interarrival_time',\n",
        "                           'Average_service_time_teller1',\n",
        "                           'Average_service_time_teller 2',\n",
        "                           'Utilization_teller_1',\n",
        "                           'Utilization_teller_2',\n",
        "                           'People_who_had_to_wait_in_line',\n",
        "                           'Total_average_wait_time',\n",
        "                           'Lost_Customers'])\n",
        "\n",
        "# rund simulation for 364 days\n",
        "for i in range(364):\n",
        "    \n",
        "    # set random seed\n",
        "    np.random.seed(i)\n",
        "    s.__init__()\n",
        "    \n",
        "    # simulate 8 hours (8 * 60 = 480)\n",
        "    while s.clock <= 480 :\n",
        "        s.time_adv() \n",
        "    \n",
        "    # store results of each simulation run\n",
        "    a = pd.Series([s.num_arrivals,\n",
        "                   s.clock/s.num_arrivals,\n",
        "                    s.dep_sum1/s.num_of_departures1,\n",
        "                    s.dep_sum2/s.num_of_departures2,\n",
        "                    s.dep_sum1/s.clock,\n",
        "                    s.dep_sum2/s.clock,\n",
        "                    s.number_in_queue,\n",
        "                    s.total_wait_time,\n",
        "                    s.lost_customers],index=df.columns)\n",
        "    df = df.append(a,ignore_index=True)"
      ],
      "metadata": {
        "id": "Vhhi-fkoDeGs"
      },
      "execution_count": 3,
      "outputs": []
    },
    {
      "cell_type": "markdown",
      "source": [
        "# Exercises\n",
        "\n",
        "Now, we can derive performance measures from these results to then analyze them and use them in improving efficiency, reducing costs, allocating resources, etc.\n",
        "Analyze the resulting eventlog and answer the following questions:\n",
        "\n",
        "* **Exercise 2.1: What was the average utilization of teller 1 and 2 last year?** "
      ],
      "metadata": {
        "id": "ZdJnk8_tQqtc"
      }
    },
    {
      "cell_type": "code",
      "source": [
        "# Please enter your code here."
      ],
      "metadata": {
        "id": "OXs7RoscRMNc"
      },
      "execution_count": 4,
      "outputs": []
    },
    {
      "cell_type": "markdown",
      "source": [
        "* **Exercise 2.2: On average, how many customers had to wait in line to be served?**"
      ],
      "metadata": {
        "id": "wns7rwCmSecg"
      }
    },
    {
      "cell_type": "code",
      "source": [
        "# Please enter your code here."
      ],
      "metadata": {
        "id": "Cf9q-MxjSngm"
      },
      "execution_count": 5,
      "outputs": []
    },
    {
      "cell_type": "markdown",
      "source": [
        "* **Exercise 2.3: How long on average does a customer have to wait to be served (in minutes)?**"
      ],
      "metadata": {
        "id": "2sP5MOMFTRTT"
      }
    },
    {
      "cell_type": "code",
      "source": [
        "# Please enter your code here."
      ],
      "metadata": {
        "id": "yCMacS2hTdMK"
      },
      "execution_count": 6,
      "outputs": []
    },
    {
      "cell_type": "markdown",
      "source": [
        "* **Exercise 2.4: How many customers visited the bank last year?**"
      ],
      "metadata": {
        "id": "dZFh4i7sUE4A"
      }
    },
    {
      "cell_type": "code",
      "source": [
        "# Please enter your code here."
      ],
      "metadata": {
        "id": "YMT-ir-fUPcg"
      },
      "execution_count": 7,
      "outputs": []
    },
    {
      "cell_type": "markdown",
      "source": [
        "* **Exercise 2.5: What percentage of customers did the bank lose due to long waiting times (rounded to two decimal places)?**"
      ],
      "metadata": {
        "id": "JRotviS2Wpod"
      }
    },
    {
      "cell_type": "code",
      "source": [
        "# Please enter your code here."
      ],
      "metadata": {
        "id": "_BBWjl3oXHM9"
      },
      "execution_count": 8,
      "outputs": []
    },
    {
      "cell_type": "markdown",
      "source": [
        "Simulation can be used as a crucial decision-making tool in many industries, from manufacturing to service and even biology. This project is just a small example of the endless possibilities of simulation. There are many Softwares and resources out there to model complex systems and simulate them with ease. However, the goal of this project was to get a fundamental understanding of how a discrete event simulation works and its use as a decision-making tool."
      ],
      "metadata": {
        "id": "zJDP8JXWPwfv"
      }
    }
  ]
}